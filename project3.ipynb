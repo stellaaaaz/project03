{
 "cells": [
  {
   "cell_type": "code",
   "execution_count": 1,
   "id": "102417fc-e0d5-4791-858e-6b9426d95fbb",
   "metadata": {
    "tags": []
   },
   "outputs": [],
   "source": [
    "import numpy as np\n",
    "import pandas as pd"
   ]
  },
  {
   "cell_type": "code",
   "execution_count": 2,
   "id": "2e873a7e-9e07-44dc-bf39-822ba40b0b86",
   "metadata": {
    "tags": []
   },
   "outputs": [],
   "source": [
    "df = pd.read_pickle('shared/Project-3_NYC_311_Calls.pkl')"
   ]
  },
  {
   "cell_type": "code",
   "execution_count": 3,
   "id": "c75dee3b-c8a1-4c28-9b1c-3745e20837c9",
   "metadata": {
    "tags": []
   },
   "outputs": [
    {
     "data": {
      "text/html": [
       "<div>\n",
       "<style scoped>\n",
       "    .dataframe tbody tr th:only-of-type {\n",
       "        vertical-align: middle;\n",
       "    }\n",
       "\n",
       "    .dataframe tbody tr th {\n",
       "        vertical-align: top;\n",
       "    }\n",
       "\n",
       "    .dataframe thead th {\n",
       "        text-align: right;\n",
       "    }\n",
       "</style>\n",
       "<table border=\"1\" class=\"dataframe\">\n",
       "  <thead>\n",
       "    <tr style=\"text-align: right;\">\n",
       "      <th></th>\n",
       "      <th>Unique Key</th>\n",
       "      <th>Agency</th>\n",
       "      <th>Agency Name</th>\n",
       "      <th>Complaint Type</th>\n",
       "      <th>Descriptor</th>\n",
       "      <th>Location Type</th>\n",
       "      <th>Incident Zip</th>\n",
       "      <th>City</th>\n",
       "      <th>Resolution Description</th>\n",
       "      <th>Borough</th>\n",
       "      <th>Open Data Channel Type</th>\n",
       "    </tr>\n",
       "    <tr>\n",
       "      <th>Created Date</th>\n",
       "      <th></th>\n",
       "      <th></th>\n",
       "      <th></th>\n",
       "      <th></th>\n",
       "      <th></th>\n",
       "      <th></th>\n",
       "      <th></th>\n",
       "      <th></th>\n",
       "      <th></th>\n",
       "      <th></th>\n",
       "      <th></th>\n",
       "    </tr>\n",
       "  </thead>\n",
       "  <tbody>\n",
       "    <tr>\n",
       "      <th>2011-04-06 00:00:00</th>\n",
       "      <td>20184537</td>\n",
       "      <td>HPD</td>\n",
       "      <td>Department of Housing Preservation and Develop...</td>\n",
       "      <td>HEATING</td>\n",
       "      <td>HEAT</td>\n",
       "      <td>RESIDENTIAL BUILDING</td>\n",
       "      <td>10002.0</td>\n",
       "      <td>NEW YORK</td>\n",
       "      <td>More than one complaint was received for this ...</td>\n",
       "      <td>MANHATTAN</td>\n",
       "      <td>UNKNOWN</td>\n",
       "    </tr>\n",
       "    <tr>\n",
       "      <th>2011-04-06 00:00:00</th>\n",
       "      <td>20184538</td>\n",
       "      <td>HPD</td>\n",
       "      <td>Department of Housing Preservation and Develop...</td>\n",
       "      <td>GENERAL CONSTRUCTION</td>\n",
       "      <td>WINDOWS</td>\n",
       "      <td>RESIDENTIAL BUILDING</td>\n",
       "      <td>11236.0</td>\n",
       "      <td>BROOKLYN</td>\n",
       "      <td>The Department of Housing Preservation and Dev...</td>\n",
       "      <td>BROOKLYN</td>\n",
       "      <td>UNKNOWN</td>\n",
       "    </tr>\n",
       "    <tr>\n",
       "      <th>2011-04-06 00:00:00</th>\n",
       "      <td>20184539</td>\n",
       "      <td>HPD</td>\n",
       "      <td>Department of Housing Preservation and Develop...</td>\n",
       "      <td>PAINT - PLASTER</td>\n",
       "      <td>WALLS</td>\n",
       "      <td>RESIDENTIAL BUILDING</td>\n",
       "      <td>10460.0</td>\n",
       "      <td>BRONX</td>\n",
       "      <td>The Department of Housing Preservation and Dev...</td>\n",
       "      <td>BRONX</td>\n",
       "      <td>UNKNOWN</td>\n",
       "    </tr>\n",
       "    <tr>\n",
       "      <th>2022-07-08 11:14:43</th>\n",
       "      <td>54732265</td>\n",
       "      <td>DSNY</td>\n",
       "      <td>Department of Sanitation</td>\n",
       "      <td>Dirty Condition</td>\n",
       "      <td>Trash</td>\n",
       "      <td>Sidewalk</td>\n",
       "      <td>10467.0</td>\n",
       "      <td>BRONX</td>\n",
       "      <td>The Department of Sanitation investigated this...</td>\n",
       "      <td>BRONX</td>\n",
       "      <td>PHONE</td>\n",
       "    </tr>\n",
       "    <tr>\n",
       "      <th>2011-04-06 00:00:00</th>\n",
       "      <td>20184540</td>\n",
       "      <td>HPD</td>\n",
       "      <td>Department of Housing Preservation and Develop...</td>\n",
       "      <td>NONCONST</td>\n",
       "      <td>VERMIN</td>\n",
       "      <td>RESIDENTIAL BUILDING</td>\n",
       "      <td>10460.0</td>\n",
       "      <td>BRONX</td>\n",
       "      <td>The Department of Housing Preservation and Dev...</td>\n",
       "      <td>BRONX</td>\n",
       "      <td>UNKNOWN</td>\n",
       "    </tr>\n",
       "  </tbody>\n",
       "</table>\n",
       "</div>"
      ],
      "text/plain": [
       "                     Unique Key Agency  \\\n",
       "Created Date                             \n",
       "2011-04-06 00:00:00    20184537    HPD   \n",
       "2011-04-06 00:00:00    20184538    HPD   \n",
       "2011-04-06 00:00:00    20184539    HPD   \n",
       "2022-07-08 11:14:43    54732265   DSNY   \n",
       "2011-04-06 00:00:00    20184540    HPD   \n",
       "\n",
       "                                                           Agency Name  \\\n",
       "Created Date                                                             \n",
       "2011-04-06 00:00:00  Department of Housing Preservation and Develop...   \n",
       "2011-04-06 00:00:00  Department of Housing Preservation and Develop...   \n",
       "2011-04-06 00:00:00  Department of Housing Preservation and Develop...   \n",
       "2022-07-08 11:14:43                           Department of Sanitation   \n",
       "2011-04-06 00:00:00  Department of Housing Preservation and Develop...   \n",
       "\n",
       "                           Complaint Type Descriptor         Location Type  \\\n",
       "Created Date                                                                 \n",
       "2011-04-06 00:00:00               HEATING       HEAT  RESIDENTIAL BUILDING   \n",
       "2011-04-06 00:00:00  GENERAL CONSTRUCTION    WINDOWS  RESIDENTIAL BUILDING   \n",
       "2011-04-06 00:00:00       PAINT - PLASTER      WALLS  RESIDENTIAL BUILDING   \n",
       "2022-07-08 11:14:43       Dirty Condition      Trash              Sidewalk   \n",
       "2011-04-06 00:00:00              NONCONST     VERMIN  RESIDENTIAL BUILDING   \n",
       "\n",
       "                    Incident Zip      City  \\\n",
       "Created Date                                 \n",
       "2011-04-06 00:00:00      10002.0  NEW YORK   \n",
       "2011-04-06 00:00:00      11236.0  BROOKLYN   \n",
       "2011-04-06 00:00:00      10460.0     BRONX   \n",
       "2022-07-08 11:14:43      10467.0     BRONX   \n",
       "2011-04-06 00:00:00      10460.0     BRONX   \n",
       "\n",
       "                                                Resolution Description  \\\n",
       "Created Date                                                             \n",
       "2011-04-06 00:00:00  More than one complaint was received for this ...   \n",
       "2011-04-06 00:00:00  The Department of Housing Preservation and Dev...   \n",
       "2011-04-06 00:00:00  The Department of Housing Preservation and Dev...   \n",
       "2022-07-08 11:14:43  The Department of Sanitation investigated this...   \n",
       "2011-04-06 00:00:00  The Department of Housing Preservation and Dev...   \n",
       "\n",
       "                       Borough Open Data Channel Type  \n",
       "Created Date                                           \n",
       "2011-04-06 00:00:00  MANHATTAN                UNKNOWN  \n",
       "2011-04-06 00:00:00   BROOKLYN                UNKNOWN  \n",
       "2011-04-06 00:00:00      BRONX                UNKNOWN  \n",
       "2022-07-08 11:14:43      BRONX                  PHONE  \n",
       "2011-04-06 00:00:00      BRONX                UNKNOWN  "
      ]
     },
     "execution_count": 3,
     "metadata": {},
     "output_type": "execute_result"
    }
   ],
   "source": [
    "df = df.set_index(pd.DatetimeIndex(df['Created Date']))\n",
    "del df['Created Date']\n",
    "df.head()"
   ]
  },
  {
   "cell_type": "code",
   "execution_count": 4,
   "id": "fcfd8a3f-3f21-467f-9be5-33a6917658aa",
   "metadata": {
    "tags": []
   },
   "outputs": [],
   "source": [
    "#Q1"
   ]
  },
  {
   "cell_type": "code",
   "execution_count": 5,
   "id": "f8d72a2e-7713-4e01-b266-be780819ae58",
   "metadata": {
    "tags": []
   },
   "outputs": [
    {
     "data": {
      "text/html": [
       "<div>\n",
       "<style scoped>\n",
       "    .dataframe tbody tr th:only-of-type {\n",
       "        vertical-align: middle;\n",
       "    }\n",
       "\n",
       "    .dataframe tbody tr th {\n",
       "        vertical-align: top;\n",
       "    }\n",
       "\n",
       "    .dataframe thead th {\n",
       "        text-align: right;\n",
       "    }\n",
       "</style>\n",
       "<table border=\"1\" class=\"dataframe\">\n",
       "  <thead>\n",
       "    <tr style=\"text-align: right;\">\n",
       "      <th></th>\n",
       "      <th>Unique Key</th>\n",
       "      <th>Agency</th>\n",
       "      <th>Agency Name</th>\n",
       "      <th>Complaint Type</th>\n",
       "      <th>Descriptor</th>\n",
       "      <th>Location Type</th>\n",
       "      <th>Incident Zip</th>\n",
       "      <th>City</th>\n",
       "      <th>Resolution Description</th>\n",
       "      <th>Borough</th>\n",
       "      <th>Open Data Channel Type</th>\n",
       "    </tr>\n",
       "    <tr>\n",
       "      <th>Created Date</th>\n",
       "      <th></th>\n",
       "      <th></th>\n",
       "      <th></th>\n",
       "      <th></th>\n",
       "      <th></th>\n",
       "      <th></th>\n",
       "      <th></th>\n",
       "      <th></th>\n",
       "      <th></th>\n",
       "      <th></th>\n",
       "      <th></th>\n",
       "    </tr>\n",
       "  </thead>\n",
       "  <tbody>\n",
       "    <tr>\n",
       "      <th>2022-07-08 11:14:43</th>\n",
       "      <td>54732265</td>\n",
       "      <td>DSNY</td>\n",
       "      <td>Department of Sanitation</td>\n",
       "      <td>Dirty Condition</td>\n",
       "      <td>Trash</td>\n",
       "      <td>Sidewalk</td>\n",
       "      <td>10467.0</td>\n",
       "      <td>BRONX</td>\n",
       "      <td>The Department of Sanitation investigated this...</td>\n",
       "      <td>BRONX</td>\n",
       "      <td>PHONE</td>\n",
       "    </tr>\n",
       "    <tr>\n",
       "      <th>2022-07-08 12:07:45</th>\n",
       "      <td>54732266</td>\n",
       "      <td>DSNY</td>\n",
       "      <td>Department of Sanitation</td>\n",
       "      <td>Dirty Condition</td>\n",
       "      <td>Trash</td>\n",
       "      <td>Sidewalk</td>\n",
       "      <td>10009.0</td>\n",
       "      <td>NEW YORK</td>\n",
       "      <td>The Department of Sanitation investigated this...</td>\n",
       "      <td>MANHATTAN</td>\n",
       "      <td>MOBILE</td>\n",
       "    </tr>\n",
       "    <tr>\n",
       "      <th>2022-07-08 06:06:47</th>\n",
       "      <td>54732267</td>\n",
       "      <td>DSNY</td>\n",
       "      <td>Department of Sanitation</td>\n",
       "      <td>Dirty Condition</td>\n",
       "      <td>Trash</td>\n",
       "      <td>Sidewalk</td>\n",
       "      <td>11204.0</td>\n",
       "      <td>BROOKLYN</td>\n",
       "      <td>The Department of Sanitation investigated this...</td>\n",
       "      <td>BROOKLYN</td>\n",
       "      <td>MOBILE</td>\n",
       "    </tr>\n",
       "    <tr>\n",
       "      <th>2022-07-08 14:12:01</th>\n",
       "      <td>54732268</td>\n",
       "      <td>DSNY</td>\n",
       "      <td>Department of Sanitation</td>\n",
       "      <td>Dirty Condition</td>\n",
       "      <td>Trash</td>\n",
       "      <td>Sidewalk</td>\n",
       "      <td>10455.0</td>\n",
       "      <td>BRONX</td>\n",
       "      <td>The Department of Sanitation investigated this...</td>\n",
       "      <td>BRONX</td>\n",
       "      <td>MOBILE</td>\n",
       "    </tr>\n",
       "    <tr>\n",
       "      <th>2022-07-08 11:25:58</th>\n",
       "      <td>54732269</td>\n",
       "      <td>DSNY</td>\n",
       "      <td>Department of Sanitation</td>\n",
       "      <td>Dirty Condition</td>\n",
       "      <td>Trash</td>\n",
       "      <td>Sidewalk</td>\n",
       "      <td>10025.0</td>\n",
       "      <td>NEW YORK</td>\n",
       "      <td>The Department of Sanitation investigated this...</td>\n",
       "      <td>MANHATTAN</td>\n",
       "      <td>PHONE</td>\n",
       "    </tr>\n",
       "  </tbody>\n",
       "</table>\n",
       "</div>"
      ],
      "text/plain": [
       "                     Unique Key Agency               Agency Name  \\\n",
       "Created Date                                                       \n",
       "2022-07-08 11:14:43    54732265   DSNY  Department of Sanitation   \n",
       "2022-07-08 12:07:45    54732266   DSNY  Department of Sanitation   \n",
       "2022-07-08 06:06:47    54732267   DSNY  Department of Sanitation   \n",
       "2022-07-08 14:12:01    54732268   DSNY  Department of Sanitation   \n",
       "2022-07-08 11:25:58    54732269   DSNY  Department of Sanitation   \n",
       "\n",
       "                      Complaint Type Descriptor Location Type Incident Zip  \\\n",
       "Created Date                                                                 \n",
       "2022-07-08 11:14:43  Dirty Condition      Trash      Sidewalk      10467.0   \n",
       "2022-07-08 12:07:45  Dirty Condition      Trash      Sidewalk      10009.0   \n",
       "2022-07-08 06:06:47  Dirty Condition      Trash      Sidewalk      11204.0   \n",
       "2022-07-08 14:12:01  Dirty Condition      Trash      Sidewalk      10455.0   \n",
       "2022-07-08 11:25:58  Dirty Condition      Trash      Sidewalk      10025.0   \n",
       "\n",
       "                         City  \\\n",
       "Created Date                    \n",
       "2022-07-08 11:14:43     BRONX   \n",
       "2022-07-08 12:07:45  NEW YORK   \n",
       "2022-07-08 06:06:47  BROOKLYN   \n",
       "2022-07-08 14:12:01     BRONX   \n",
       "2022-07-08 11:25:58  NEW YORK   \n",
       "\n",
       "                                                Resolution Description  \\\n",
       "Created Date                                                             \n",
       "2022-07-08 11:14:43  The Department of Sanitation investigated this...   \n",
       "2022-07-08 12:07:45  The Department of Sanitation investigated this...   \n",
       "2022-07-08 06:06:47  The Department of Sanitation investigated this...   \n",
       "2022-07-08 14:12:01  The Department of Sanitation investigated this...   \n",
       "2022-07-08 11:25:58  The Department of Sanitation investigated this...   \n",
       "\n",
       "                       Borough Open Data Channel Type  \n",
       "Created Date                                           \n",
       "2022-07-08 11:14:43      BRONX                  PHONE  \n",
       "2022-07-08 12:07:45  MANHATTAN                 MOBILE  \n",
       "2022-07-08 06:06:47   BROOKLYN                 MOBILE  \n",
       "2022-07-08 14:12:01      BRONX                 MOBILE  \n",
       "2022-07-08 11:25:58  MANHATTAN                  PHONE  "
      ]
     },
     "execution_count": 5,
     "metadata": {},
     "output_type": "execute_result"
    }
   ],
   "source": [
    "df2022 = df.loc['2022']\n",
    "df2022.head()"
   ]
  },
  {
   "cell_type": "code",
   "execution_count": 6,
   "id": "e7e61631-33b9-448d-b301-02a6f3c2e719",
   "metadata": {
    "tags": []
   },
   "outputs": [
    {
     "data": {
      "text/plain": [
       "Created Date\n",
       "2022-01-01     5866\n",
       "2022-01-02     6710\n",
       "2022-01-03     9163\n",
       "2022-01-04     9415\n",
       "2022-01-05     8385\n",
       "              ...  \n",
       "2022-12-27    10250\n",
       "2022-12-28     9036\n",
       "2022-12-29     8279\n",
       "2022-12-30     7582\n",
       "2022-12-31     5742\n",
       "Freq: D, Name: Unique Key, Length: 365, dtype: int64"
      ]
     },
     "execution_count": 6,
     "metadata": {},
     "output_type": "execute_result"
    }
   ],
   "source": [
    "complaints_2022 = df2022.resample(rule='D')['Unique Key'].count()\n",
    "complaints_2022"
   ]
  },
  {
   "cell_type": "code",
   "execution_count": 7,
   "id": "5b961134-3988-4e8a-8aaf-d6b951585246",
   "metadata": {
    "tags": []
   },
   "outputs": [
    {
     "data": {
      "text/plain": [
       "8684.320547945206"
      ]
     },
     "execution_count": 7,
     "metadata": {},
     "output_type": "execute_result"
    }
   ],
   "source": [
    "complaints_2022.mean()"
   ]
  },
  {
   "cell_type": "code",
   "execution_count": 8,
   "id": "9269297e-d2b2-471f-806c-a63d12b29422",
   "metadata": {
    "tags": []
   },
   "outputs": [],
   "source": [
    "#Q2"
   ]
  },
  {
   "cell_type": "code",
   "execution_count": 9,
   "id": "83a0a754-f44f-44d6-993c-54dbb443a463",
   "metadata": {
    "tags": []
   },
   "outputs": [
    {
     "data": {
      "text/plain": [
       "2010-01-01    2942\n",
       "2010-01-02    3958\n",
       "2010-01-03    5676\n",
       "2010-01-04    9763\n",
       "2010-01-05    8735\n",
       "              ... \n",
       "2023-07-31    9921\n",
       "2023-08-01    9813\n",
       "2023-08-02    9245\n",
       "2023-08-03    9128\n",
       "2023-08-04     384\n",
       "Length: 4964, dtype: int64"
      ]
     },
     "execution_count": 9,
     "metadata": {},
     "output_type": "execute_result"
    }
   ],
   "source": [
    "complaints_by_date = df.groupby(df.index.date).size()\n",
    "complaints_by_date"
   ]
  },
  {
   "cell_type": "code",
   "execution_count": 10,
   "id": "f9f4e654-a93d-45b6-961c-8de4dd693f8c",
   "metadata": {
    "tags": []
   },
   "outputs": [
    {
     "data": {
      "text/plain": [
       "datetime.date(2020, 8, 4)"
      ]
     },
     "execution_count": 10,
     "metadata": {},
     "output_type": "execute_result"
    }
   ],
   "source": [
    "max_complaints_by_date = complaints_by_date.idxmax()\n",
    "max_complaints_by_date"
   ]
  },
  {
   "cell_type": "code",
   "execution_count": 11,
   "id": "e596182e-7712-4bbf-81eb-c9276831b423",
   "metadata": {
    "tags": []
   },
   "outputs": [],
   "source": [
    "#Q3"
   ]
  },
  {
   "cell_type": "code",
   "execution_count": 12,
   "id": "49fba8e4-89ee-427f-bebd-338788ed2791",
   "metadata": {
    "tags": []
   },
   "outputs": [
    {
     "data": {
      "text/html": [
       "<div>\n",
       "<style scoped>\n",
       "    .dataframe tbody tr th:only-of-type {\n",
       "        vertical-align: middle;\n",
       "    }\n",
       "\n",
       "    .dataframe tbody tr th {\n",
       "        vertical-align: top;\n",
       "    }\n",
       "\n",
       "    .dataframe thead th {\n",
       "        text-align: right;\n",
       "    }\n",
       "</style>\n",
       "<table border=\"1\" class=\"dataframe\">\n",
       "  <thead>\n",
       "    <tr style=\"text-align: right;\">\n",
       "      <th></th>\n",
       "      <th>Unique Key</th>\n",
       "      <th>Agency</th>\n",
       "      <th>Agency Name</th>\n",
       "      <th>Complaint Type</th>\n",
       "      <th>Descriptor</th>\n",
       "      <th>Location Type</th>\n",
       "      <th>Incident Zip</th>\n",
       "      <th>City</th>\n",
       "      <th>Resolution Description</th>\n",
       "      <th>Borough</th>\n",
       "      <th>Open Data Channel Type</th>\n",
       "    </tr>\n",
       "    <tr>\n",
       "      <th>Created Date</th>\n",
       "      <th></th>\n",
       "      <th></th>\n",
       "      <th></th>\n",
       "      <th></th>\n",
       "      <th></th>\n",
       "      <th></th>\n",
       "      <th></th>\n",
       "      <th></th>\n",
       "      <th></th>\n",
       "      <th></th>\n",
       "      <th></th>\n",
       "    </tr>\n",
       "  </thead>\n",
       "  <tbody>\n",
       "    <tr>\n",
       "      <th>2020-08-04 20:26:03</th>\n",
       "      <td>47103795</td>\n",
       "      <td>DPR</td>\n",
       "      <td>Department of Parks and Recreation</td>\n",
       "      <td>Damaged Tree</td>\n",
       "      <td>Entire Tree Has Fallen Down</td>\n",
       "      <td>Street</td>\n",
       "      <td>NaN</td>\n",
       "      <td>NaN</td>\n",
       "      <td>The Department of Parks and Recreation visited...</td>\n",
       "      <td>Unspecified</td>\n",
       "      <td>UNKNOWN</td>\n",
       "    </tr>\n",
       "    <tr>\n",
       "      <th>2020-08-04 20:02:44</th>\n",
       "      <td>47107936</td>\n",
       "      <td>DPR</td>\n",
       "      <td>Department of Parks and Recreation</td>\n",
       "      <td>Damaged Tree</td>\n",
       "      <td>Entire Tree Has Fallen Down</td>\n",
       "      <td>Street</td>\n",
       "      <td>NaN</td>\n",
       "      <td>NaN</td>\n",
       "      <td>The Department of Parks and Recreation has ins...</td>\n",
       "      <td>Unspecified</td>\n",
       "      <td>UNKNOWN</td>\n",
       "    </tr>\n",
       "    <tr>\n",
       "      <th>2020-08-04 15:35:00</th>\n",
       "      <td>47098354</td>\n",
       "      <td>DOT</td>\n",
       "      <td>Department of Transportation</td>\n",
       "      <td>Traffic Signal Condition</td>\n",
       "      <td>Vehicle Signal</td>\n",
       "      <td>NaN</td>\n",
       "      <td>NaN</td>\n",
       "      <td>NaN</td>\n",
       "      <td>Service Request status for this request is ava...</td>\n",
       "      <td>NaN</td>\n",
       "      <td>UNKNOWN</td>\n",
       "    </tr>\n",
       "    <tr>\n",
       "      <th>2020-08-04 11:52:00</th>\n",
       "      <td>47105987</td>\n",
       "      <td>DOT</td>\n",
       "      <td>Department of Transportation</td>\n",
       "      <td>Street Light Condition</td>\n",
       "      <td>Street Light Out</td>\n",
       "      <td>NaN</td>\n",
       "      <td>NaN</td>\n",
       "      <td>NaN</td>\n",
       "      <td>Service Request status for this request is ava...</td>\n",
       "      <td>QUEENS</td>\n",
       "      <td>UNKNOWN</td>\n",
       "    </tr>\n",
       "    <tr>\n",
       "      <th>2020-08-04 12:00:00</th>\n",
       "      <td>47118929</td>\n",
       "      <td>DSNY</td>\n",
       "      <td>Department of Sanitation</td>\n",
       "      <td>Derelict Vehicles</td>\n",
       "      <td>Derelict Vehicles</td>\n",
       "      <td>Street</td>\n",
       "      <td>NaN</td>\n",
       "      <td>NaN</td>\n",
       "      <td>The Department of Sanitation Investigated and ...</td>\n",
       "      <td>NaN</td>\n",
       "      <td>PHONE</td>\n",
       "    </tr>\n",
       "  </tbody>\n",
       "</table>\n",
       "</div>"
      ],
      "text/plain": [
       "                     Unique Key Agency                         Agency Name  \\\n",
       "Created Date                                                                 \n",
       "2020-08-04 20:26:03    47103795    DPR  Department of Parks and Recreation   \n",
       "2020-08-04 20:02:44    47107936    DPR  Department of Parks and Recreation   \n",
       "2020-08-04 15:35:00    47098354    DOT        Department of Transportation   \n",
       "2020-08-04 11:52:00    47105987    DOT        Department of Transportation   \n",
       "2020-08-04 12:00:00    47118929   DSNY            Department of Sanitation   \n",
       "\n",
       "                               Complaint Type                   Descriptor  \\\n",
       "Created Date                                                                 \n",
       "2020-08-04 20:26:03              Damaged Tree  Entire Tree Has Fallen Down   \n",
       "2020-08-04 20:02:44              Damaged Tree  Entire Tree Has Fallen Down   \n",
       "2020-08-04 15:35:00  Traffic Signal Condition               Vehicle Signal   \n",
       "2020-08-04 11:52:00    Street Light Condition             Street Light Out   \n",
       "2020-08-04 12:00:00         Derelict Vehicles            Derelict Vehicles   \n",
       "\n",
       "                    Location Type Incident Zip City  \\\n",
       "Created Date                                          \n",
       "2020-08-04 20:26:03        Street          NaN  NaN   \n",
       "2020-08-04 20:02:44        Street          NaN  NaN   \n",
       "2020-08-04 15:35:00           NaN          NaN  NaN   \n",
       "2020-08-04 11:52:00           NaN          NaN  NaN   \n",
       "2020-08-04 12:00:00        Street          NaN  NaN   \n",
       "\n",
       "                                                Resolution Description  \\\n",
       "Created Date                                                             \n",
       "2020-08-04 20:26:03  The Department of Parks and Recreation visited...   \n",
       "2020-08-04 20:02:44  The Department of Parks and Recreation has ins...   \n",
       "2020-08-04 15:35:00  Service Request status for this request is ava...   \n",
       "2020-08-04 11:52:00  Service Request status for this request is ava...   \n",
       "2020-08-04 12:00:00  The Department of Sanitation Investigated and ...   \n",
       "\n",
       "                         Borough Open Data Channel Type  \n",
       "Created Date                                             \n",
       "2020-08-04 20:26:03  Unspecified                UNKNOWN  \n",
       "2020-08-04 20:02:44  Unspecified                UNKNOWN  \n",
       "2020-08-04 15:35:00          NaN                UNKNOWN  \n",
       "2020-08-04 11:52:00       QUEENS                UNKNOWN  \n",
       "2020-08-04 12:00:00          NaN                  PHONE  "
      ]
     },
     "execution_count": 12,
     "metadata": {},
     "output_type": "execute_result"
    }
   ],
   "source": [
    "max_date = df.loc['2020-08-04']\n",
    "max_date.head()"
   ]
  },
  {
   "cell_type": "code",
   "execution_count": 13,
   "id": "b7fa0294-0fd9-46fd-a208-da570a28ca3b",
   "metadata": {
    "tags": []
   },
   "outputs": [
    {
     "data": {
      "text/plain": [
       "Complaint Type\n",
       "Damaged Tree                           14863\n",
       "Noise - Residential                      982\n",
       "Request Large Bulky Item Collection      909\n",
       "Street Light Condition                   617\n",
       "Overgrown Tree/Branches                  609\n",
       "                                       ...  \n",
       "Bus Stop Shelter Placement                 1\n",
       "Unsanitary Pigeon Condition                1\n",
       "Public Payphone Complaint                  1\n",
       "For Hire Vehicle Report                    1\n",
       "Bridge Condition                           1\n",
       "Name: count, Length: 125, dtype: int64"
      ]
     },
     "execution_count": 13,
     "metadata": {},
     "output_type": "execute_result"
    }
   ],
   "source": [
    "max_date_complaint_type = max_date['Complaint Type'].value_counts()\n",
    "max_date_complaint_type"
   ]
  },
  {
   "cell_type": "code",
   "execution_count": 14,
   "id": "1ba28d77-00ce-4593-8c26-8bbeaa93b295",
   "metadata": {
    "tags": []
   },
   "outputs": [
    {
     "data": {
      "text/plain": [
       "'Damaged Tree'"
      ]
     },
     "execution_count": 14,
     "metadata": {},
     "output_type": "execute_result"
    }
   ],
   "source": [
    "max_date_complaint_type.idxmax()"
   ]
  },
  {
   "cell_type": "code",
   "execution_count": 15,
   "id": "027e7599-e614-4d49-a169-674175dfb7e6",
   "metadata": {
    "tags": []
   },
   "outputs": [],
   "source": [
    "#Q4"
   ]
  },
  {
   "cell_type": "code",
   "execution_count": 16,
   "id": "79d47c96-fbcc-4267-aad1-3c2b208d4ebb",
   "metadata": {
    "tags": []
   },
   "outputs": [
    {
     "data": {
      "text/plain": [
       "Created Date\n",
       "1     2994507\n",
       "2     2621845\n",
       "3     2868044\n",
       "4     2672760\n",
       "5     2956598\n",
       "6     3093442\n",
       "7     3111026\n",
       "8     2779862\n",
       "9     2684271\n",
       "10    2766887\n",
       "11    2634749\n",
       "12    2596986\n",
       "dtype: int64"
      ]
     },
     "execution_count": 16,
     "metadata": {},
     "output_type": "execute_result"
    }
   ],
   "source": [
    "complaints_by_month = df.groupby(df.index.month).size()\n",
    "complaints_by_month"
   ]
  },
  {
   "cell_type": "code",
   "execution_count": 17,
   "id": "b9f19a95-c79f-4f8f-a6ca-415777e59911",
   "metadata": {
    "tags": []
   },
   "outputs": [
    {
     "data": {
      "text/plain": [
       "12"
      ]
     },
     "execution_count": 17,
     "metadata": {},
     "output_type": "execute_result"
    }
   ],
   "source": [
    "min_complaints_by_month = complaints_by_month.idxmin()\n",
    "min_complaints_by_month"
   ]
  },
  {
   "cell_type": "code",
   "execution_count": 18,
   "id": "bf691d62-ec85-4347-a0f0-c6cf215ca3be",
   "metadata": {
    "tags": []
   },
   "outputs": [],
   "source": [
    "#Q5"
   ]
  },
  {
   "cell_type": "code",
   "execution_count": 19,
   "id": "3bb2c982-fff6-416d-bdc8-1a87d35c1811",
   "metadata": {
    "tags": []
   },
   "outputs": [
    {
     "data": {
      "text/html": [
       "<div>\n",
       "<style scoped>\n",
       "    .dataframe tbody tr th:only-of-type {\n",
       "        vertical-align: middle;\n",
       "    }\n",
       "\n",
       "    .dataframe tbody tr th {\n",
       "        vertical-align: top;\n",
       "    }\n",
       "\n",
       "    .dataframe thead th {\n",
       "        text-align: right;\n",
       "    }\n",
       "</style>\n",
       "<table border=\"1\" class=\"dataframe\">\n",
       "  <thead>\n",
       "    <tr style=\"text-align: right;\">\n",
       "      <th></th>\n",
       "      <th>Unique Key</th>\n",
       "    </tr>\n",
       "    <tr>\n",
       "      <th>Created Date</th>\n",
       "      <th></th>\n",
       "    </tr>\n",
       "  </thead>\n",
       "  <tbody>\n",
       "    <tr>\n",
       "      <th>2011-04-06 00:00:00</th>\n",
       "      <td>20184537</td>\n",
       "    </tr>\n",
       "    <tr>\n",
       "      <th>2011-04-06 00:00:00</th>\n",
       "      <td>20184538</td>\n",
       "    </tr>\n",
       "    <tr>\n",
       "      <th>2011-04-06 00:00:00</th>\n",
       "      <td>20184539</td>\n",
       "    </tr>\n",
       "    <tr>\n",
       "      <th>2022-07-08 11:14:43</th>\n",
       "      <td>54732265</td>\n",
       "    </tr>\n",
       "    <tr>\n",
       "      <th>2011-04-06 00:00:00</th>\n",
       "      <td>20184540</td>\n",
       "    </tr>\n",
       "  </tbody>\n",
       "</table>\n",
       "</div>"
      ],
      "text/plain": [
       "                     Unique Key\n",
       "Created Date                   \n",
       "2011-04-06 00:00:00    20184537\n",
       "2011-04-06 00:00:00    20184538\n",
       "2011-04-06 00:00:00    20184539\n",
       "2022-07-08 11:14:43    54732265\n",
       "2011-04-06 00:00:00    20184540"
      ]
     },
     "execution_count": 19,
     "metadata": {},
     "output_type": "execute_result"
    }
   ],
   "source": [
    "df1 = df.iloc[:,:1]\n",
    "df1.head()"
   ]
  },
  {
   "cell_type": "code",
   "execution_count": 20,
   "id": "bc482f2a-64bd-4b63-9bd0-abc5c8a2f497",
   "metadata": {
    "tags": []
   },
   "outputs": [
    {
     "data": {
      "text/html": [
       "<div>\n",
       "<style scoped>\n",
       "    .dataframe tbody tr th:only-of-type {\n",
       "        vertical-align: middle;\n",
       "    }\n",
       "\n",
       "    .dataframe tbody tr th {\n",
       "        vertical-align: top;\n",
       "    }\n",
       "\n",
       "    .dataframe thead th {\n",
       "        text-align: right;\n",
       "    }\n",
       "</style>\n",
       "<table border=\"1\" class=\"dataframe\">\n",
       "  <thead>\n",
       "    <tr style=\"text-align: right;\">\n",
       "      <th></th>\n",
       "      <th>Call</th>\n",
       "    </tr>\n",
       "    <tr>\n",
       "      <th>Created Date</th>\n",
       "      <th></th>\n",
       "    </tr>\n",
       "  </thead>\n",
       "  <tbody>\n",
       "    <tr>\n",
       "      <th>2010-01-01</th>\n",
       "      <td>2942</td>\n",
       "    </tr>\n",
       "    <tr>\n",
       "      <th>2010-01-02</th>\n",
       "      <td>3958</td>\n",
       "    </tr>\n",
       "    <tr>\n",
       "      <th>2010-01-03</th>\n",
       "      <td>5676</td>\n",
       "    </tr>\n",
       "    <tr>\n",
       "      <th>2010-01-04</th>\n",
       "      <td>9763</td>\n",
       "    </tr>\n",
       "    <tr>\n",
       "      <th>2010-01-05</th>\n",
       "      <td>8735</td>\n",
       "    </tr>\n",
       "    <tr>\n",
       "      <th>...</th>\n",
       "      <td>...</td>\n",
       "    </tr>\n",
       "    <tr>\n",
       "      <th>2023-07-31</th>\n",
       "      <td>9921</td>\n",
       "    </tr>\n",
       "    <tr>\n",
       "      <th>2023-08-01</th>\n",
       "      <td>9813</td>\n",
       "    </tr>\n",
       "    <tr>\n",
       "      <th>2023-08-02</th>\n",
       "      <td>9245</td>\n",
       "    </tr>\n",
       "    <tr>\n",
       "      <th>2023-08-03</th>\n",
       "      <td>9128</td>\n",
       "    </tr>\n",
       "    <tr>\n",
       "      <th>2023-08-04</th>\n",
       "      <td>384</td>\n",
       "    </tr>\n",
       "  </tbody>\n",
       "</table>\n",
       "<p>4964 rows × 1 columns</p>\n",
       "</div>"
      ],
      "text/plain": [
       "              Call\n",
       "Created Date      \n",
       "2010-01-01    2942\n",
       "2010-01-02    3958\n",
       "2010-01-03    5676\n",
       "2010-01-04    9763\n",
       "2010-01-05    8735\n",
       "...            ...\n",
       "2023-07-31    9921\n",
       "2023-08-01    9813\n",
       "2023-08-02    9245\n",
       "2023-08-03    9128\n",
       "2023-08-04     384\n",
       "\n",
       "[4964 rows x 1 columns]"
      ]
     },
     "execution_count": 20,
     "metadata": {},
     "output_type": "execute_result"
    }
   ],
   "source": [
    "complaints_all = df1.resample('D')['Unique Key'].count()\n",
    "complaints_all = complaints_all.reset_index(name = 'Call')\n",
    "complaints_all = complaints_all.set_index('Created Date')\n",
    "complaints_all"
   ]
  },
  {
   "cell_type": "code",
   "execution_count": 21,
   "id": "59cab464-64a5-4ab2-9a01-27d994c5943b",
   "metadata": {
    "tags": []
   },
   "outputs": [
    {
     "data": {
      "text/html": [
       "<div>\n",
       "<style scoped>\n",
       "    .dataframe tbody tr th:only-of-type {\n",
       "        vertical-align: middle;\n",
       "    }\n",
       "\n",
       "    .dataframe tbody tr th {\n",
       "        vertical-align: top;\n",
       "    }\n",
       "\n",
       "    .dataframe thead th {\n",
       "        text-align: right;\n",
       "    }\n",
       "</style>\n",
       "<table border=\"1\" class=\"dataframe\">\n",
       "  <thead>\n",
       "    <tr style=\"text-align: right;\">\n",
       "      <th></th>\n",
       "      <th>trend</th>\n",
       "      <th>seasonality</th>\n",
       "      <th>error</th>\n",
       "    </tr>\n",
       "    <tr>\n",
       "      <th>Created Date</th>\n",
       "      <th></th>\n",
       "      <th></th>\n",
       "      <th></th>\n",
       "    </tr>\n",
       "  </thead>\n",
       "  <tbody>\n",
       "    <tr>\n",
       "      <th>2010-01-01</th>\n",
       "      <td>NaN</td>\n",
       "      <td>182.697638</td>\n",
       "      <td>NaN</td>\n",
       "    </tr>\n",
       "    <tr>\n",
       "      <th>2010-01-02</th>\n",
       "      <td>NaN</td>\n",
       "      <td>-1096.197842</td>\n",
       "      <td>NaN</td>\n",
       "    </tr>\n",
       "    <tr>\n",
       "      <th>2010-01-03</th>\n",
       "      <td>NaN</td>\n",
       "      <td>-1320.055591</td>\n",
       "      <td>NaN</td>\n",
       "    </tr>\n",
       "    <tr>\n",
       "      <th>2010-01-04</th>\n",
       "      <td>6479.571429</td>\n",
       "      <td>634.158302</td>\n",
       "      <td>2649.270270</td>\n",
       "    </tr>\n",
       "    <tr>\n",
       "      <th>2010-01-05</th>\n",
       "      <td>6957.857143</td>\n",
       "      <td>694.951572</td>\n",
       "      <td>1082.191285</td>\n",
       "    </tr>\n",
       "    <tr>\n",
       "      <th>...</th>\n",
       "      <td>...</td>\n",
       "      <td>...</td>\n",
       "      <td>...</td>\n",
       "    </tr>\n",
       "    <tr>\n",
       "      <th>2023-07-31</th>\n",
       "      <td>9356.714286</td>\n",
       "      <td>634.158302</td>\n",
       "      <td>-69.872587</td>\n",
       "    </tr>\n",
       "    <tr>\n",
       "      <th>2023-08-01</th>\n",
       "      <td>8045.428571</td>\n",
       "      <td>694.951572</td>\n",
       "      <td>1072.619857</td>\n",
       "    </tr>\n",
       "    <tr>\n",
       "      <th>2023-08-02</th>\n",
       "      <td>NaN</td>\n",
       "      <td>527.573748</td>\n",
       "      <td>NaN</td>\n",
       "    </tr>\n",
       "    <tr>\n",
       "      <th>2023-08-03</th>\n",
       "      <td>NaN</td>\n",
       "      <td>376.872174</td>\n",
       "      <td>NaN</td>\n",
       "    </tr>\n",
       "    <tr>\n",
       "      <th>2023-08-04</th>\n",
       "      <td>NaN</td>\n",
       "      <td>182.697638</td>\n",
       "      <td>NaN</td>\n",
       "    </tr>\n",
       "  </tbody>\n",
       "</table>\n",
       "<p>4964 rows × 3 columns</p>\n",
       "</div>"
      ],
      "text/plain": [
       "                    trend  seasonality        error\n",
       "Created Date                                       \n",
       "2010-01-01            NaN   182.697638          NaN\n",
       "2010-01-02            NaN -1096.197842          NaN\n",
       "2010-01-03            NaN -1320.055591          NaN\n",
       "2010-01-04    6479.571429   634.158302  2649.270270\n",
       "2010-01-05    6957.857143   694.951572  1082.191285\n",
       "...                   ...          ...          ...\n",
       "2023-07-31    9356.714286   634.158302   -69.872587\n",
       "2023-08-01    8045.428571   694.951572  1072.619857\n",
       "2023-08-02            NaN   527.573748          NaN\n",
       "2023-08-03            NaN   376.872174          NaN\n",
       "2023-08-04            NaN   182.697638          NaN\n",
       "\n",
       "[4964 rows x 3 columns]"
      ]
     },
     "execution_count": 21,
     "metadata": {},
     "output_type": "execute_result"
    }
   ],
   "source": [
    "from statsmodels.tsa.seasonal import seasonal_decompose\n",
    "result = seasonal_decompose(complaints_all, model = 'additive') \n",
    "ets = pd.DataFrame({'trend': result.trend, \n",
    "              'seasonality': result.seasonal, \n",
    "              'error': result.resid})\n",
    "ets"
   ]
  },
  {
   "cell_type": "code",
   "execution_count": 22,
   "id": "40eea005-3d28-4fb1-ae68-810d226543e5",
   "metadata": {
    "tags": []
   },
   "outputs": [
    {
     "data": {
      "text/plain": [
       "182.69763790386224"
      ]
     },
     "execution_count": 22,
     "metadata": {},
     "output_type": "execute_result"
    }
   ],
   "source": [
    "ets.loc['2020-12-25', 'seasonality']"
   ]
  },
  {
   "cell_type": "code",
   "execution_count": 23,
   "id": "6a3a109d-4886-4217-a9dc-ad65f997d05d",
   "metadata": {
    "tags": []
   },
   "outputs": [],
   "source": [
    "#Q6"
   ]
  },
  {
   "cell_type": "code",
   "execution_count": 24,
   "id": "b2d30f59-4f20-47d4-9167-59699e9df073",
   "metadata": {
    "tags": []
   },
   "outputs": [
    {
     "data": {
      "text/plain": [
       "0.7517059728398577"
      ]
     },
     "execution_count": 24,
     "metadata": {},
     "output_type": "execute_result"
    }
   ],
   "source": [
    "autocorrelation = complaints_all['Call'].autocorr(lag=1)\n",
    "autocorrelation"
   ]
  },
  {
   "cell_type": "code",
   "execution_count": 25,
   "id": "6d7c9a7f-a9ab-4adb-9977-58d93716d3c6",
   "metadata": {
    "tags": []
   },
   "outputs": [],
   "source": [
    "#Q7"
   ]
  },
  {
   "cell_type": "code",
   "execution_count": 26,
   "id": "d002e573-3b61-4164-873f-aac77b5dfbf0",
   "metadata": {
    "tags": []
   },
   "outputs": [],
   "source": [
    "from prophet import Prophet"
   ]
  },
  {
   "cell_type": "code",
   "execution_count": 27,
   "id": "83a87370-ad8a-4005-8420-12b3f711eae3",
   "metadata": {
    "tags": []
   },
   "outputs": [
    {
     "data": {
      "text/html": [
       "<div>\n",
       "<style scoped>\n",
       "    .dataframe tbody tr th:only-of-type {\n",
       "        vertical-align: middle;\n",
       "    }\n",
       "\n",
       "    .dataframe tbody tr th {\n",
       "        vertical-align: top;\n",
       "    }\n",
       "\n",
       "    .dataframe thead th {\n",
       "        text-align: right;\n",
       "    }\n",
       "</style>\n",
       "<table border=\"1\" class=\"dataframe\">\n",
       "  <thead>\n",
       "    <tr style=\"text-align: right;\">\n",
       "      <th></th>\n",
       "      <th>ds</th>\n",
       "      <th>y</th>\n",
       "    </tr>\n",
       "  </thead>\n",
       "  <tbody>\n",
       "    <tr>\n",
       "      <th>0</th>\n",
       "      <td>2010-01-01</td>\n",
       "      <td>2942</td>\n",
       "    </tr>\n",
       "    <tr>\n",
       "      <th>1</th>\n",
       "      <td>2010-01-02</td>\n",
       "      <td>3958</td>\n",
       "    </tr>\n",
       "    <tr>\n",
       "      <th>2</th>\n",
       "      <td>2010-01-03</td>\n",
       "      <td>5676</td>\n",
       "    </tr>\n",
       "    <tr>\n",
       "      <th>3</th>\n",
       "      <td>2010-01-04</td>\n",
       "      <td>9763</td>\n",
       "    </tr>\n",
       "    <tr>\n",
       "      <th>4</th>\n",
       "      <td>2010-01-05</td>\n",
       "      <td>8735</td>\n",
       "    </tr>\n",
       "    <tr>\n",
       "      <th>...</th>\n",
       "      <td>...</td>\n",
       "      <td>...</td>\n",
       "    </tr>\n",
       "    <tr>\n",
       "      <th>4959</th>\n",
       "      <td>2023-07-31</td>\n",
       "      <td>9921</td>\n",
       "    </tr>\n",
       "    <tr>\n",
       "      <th>4960</th>\n",
       "      <td>2023-08-01</td>\n",
       "      <td>9813</td>\n",
       "    </tr>\n",
       "    <tr>\n",
       "      <th>4961</th>\n",
       "      <td>2023-08-02</td>\n",
       "      <td>9245</td>\n",
       "    </tr>\n",
       "    <tr>\n",
       "      <th>4962</th>\n",
       "      <td>2023-08-03</td>\n",
       "      <td>9128</td>\n",
       "    </tr>\n",
       "    <tr>\n",
       "      <th>4963</th>\n",
       "      <td>2023-08-04</td>\n",
       "      <td>384</td>\n",
       "    </tr>\n",
       "  </tbody>\n",
       "</table>\n",
       "<p>4964 rows × 2 columns</p>\n",
       "</div>"
      ],
      "text/plain": [
       "             ds     y\n",
       "0    2010-01-01  2942\n",
       "1    2010-01-02  3958\n",
       "2    2010-01-03  5676\n",
       "3    2010-01-04  9763\n",
       "4    2010-01-05  8735\n",
       "...         ...   ...\n",
       "4959 2023-07-31  9921\n",
       "4960 2023-08-01  9813\n",
       "4961 2023-08-02  9245\n",
       "4962 2023-08-03  9128\n",
       "4963 2023-08-04   384\n",
       "\n",
       "[4964 rows x 2 columns]"
      ]
     },
     "execution_count": 27,
     "metadata": {},
     "output_type": "execute_result"
    }
   ],
   "source": [
    "daily_series = df1['Unique Key'].resample('D').count()\n",
    "df_prophet = pd.DataFrame({'ds': daily_series.index, 'y': daily_series.values})\n",
    "df_prophet"
   ]
  },
  {
   "cell_type": "code",
   "execution_count": 28,
   "id": "91113da4-c7fe-4282-a963-ecbf7b3676ce",
   "metadata": {
    "tags": []
   },
   "outputs": [],
   "source": [
    "test_size = 90\n",
    "train_size = len(df_prophet) - test_size"
   ]
  },
  {
   "cell_type": "code",
   "execution_count": 29,
   "id": "e8217ed8-8991-4c5d-8ba1-3936260380d9",
   "metadata": {
    "tags": []
   },
   "outputs": [],
   "source": [
    "model = Prophet()"
   ]
  },
  {
   "cell_type": "code",
   "execution_count": 30,
   "id": "5de2cfd2-3943-43fa-b541-456ece0bf136",
   "metadata": {
    "tags": []
   },
   "outputs": [
    {
     "name": "stderr",
     "output_type": "stream",
     "text": [
      "02:01:18 - cmdstanpy - INFO - Chain [1] start processing\n",
      "02:01:19 - cmdstanpy - INFO - Chain [1] done processing\n"
     ]
    },
    {
     "data": {
      "text/plain": [
       "<prophet.forecaster.Prophet at 0x7f9858670a30>"
      ]
     },
     "execution_count": 30,
     "metadata": {},
     "output_type": "execute_result"
    }
   ],
   "source": [
    "model.fit(df_prophet.iloc[:train_size])"
   ]
  },
  {
   "cell_type": "code",
   "execution_count": 31,
   "id": "ab61dc26-b779-49f6-b91e-cd71a555b0ee",
   "metadata": {
    "tags": []
   },
   "outputs": [],
   "source": [
    "future = model.make_future_dataframe(periods=test_size)\n",
    "forecast = model.predict(future)\n",
    "actual_values = df_prophet.iloc[train_size:]['y'].values\n",
    "predicted_values = forecast.iloc[train_size:]['yhat'].values"
   ]
  },
  {
   "cell_type": "code",
   "execution_count": 32,
   "id": "da833c37-28ed-4bfc-a399-311b9de90604",
   "metadata": {
    "tags": []
   },
   "outputs": [
    {
     "data": {
      "text/plain": [
       "1231.513760758433"
      ]
     },
     "execution_count": 32,
     "metadata": {},
     "output_type": "execute_result"
    }
   ],
   "source": [
    "from sklearn.metrics import mean_squared_error\n",
    "rmse = np.sqrt(mean_squared_error(actual_values, predicted_values))\n",
    "rmse"
   ]
  },
  {
   "cell_type": "code",
   "execution_count": null,
   "id": "d0ff6996-8437-4e05-8c25-f7587cf09af2",
   "metadata": {},
   "outputs": [],
   "source": []
  }
 ],
 "metadata": {
  "kernelspec": {
   "display_name": "Python [conda env:mggy8413]",
   "language": "python",
   "name": "conda-env-mggy8413-py"
  },
  "language_info": {
   "codemirror_mode": {
    "name": "ipython",
    "version": 3
   },
   "file_extension": ".py",
   "mimetype": "text/x-python",
   "name": "python",
   "nbconvert_exporter": "python",
   "pygments_lexer": "ipython3",
   "version": "3.10.12"
  }
 },
 "nbformat": 4,
 "nbformat_minor": 5
}
